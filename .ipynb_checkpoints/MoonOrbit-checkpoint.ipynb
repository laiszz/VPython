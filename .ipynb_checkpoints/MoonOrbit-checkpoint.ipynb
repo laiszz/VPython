{
 "cells": [
  {
   "cell_type": "code",
   "execution_count": 1,
   "id": "2c7a84e8-2ad9-4659-8357-20d4f0d96312",
   "metadata": {
    "tags": []
   },
   "outputs": [
    {
     "data": {
      "text/html": [
       "<div id=\"glowscript\" class=\"glowscript\"></div>"
      ],
      "text/plain": [
       "<IPython.core.display.HTML object>"
      ]
     },
     "metadata": {},
     "output_type": "display_data"
    },
    {
     "data": {
      "application/javascript": [
       "if (typeof Jupyter !== \"undefined\") { window.__context = { glowscript_container: $(\"#glowscript\").removeAttr(\"id\")};}else{ element.textContent = ' ';}"
      ],
      "text/plain": [
       "<IPython.core.display.Javascript object>"
      ]
     },
     "metadata": {},
     "output_type": "display_data"
    },
    {
     "data": {
      "text/html": [
       "<div id=\"glowscript\" class=\"glowscript\"></div>"
      ],
      "text/plain": [
       "<IPython.core.display.HTML object>"
      ]
     },
     "metadata": {},
     "output_type": "display_data"
    },
    {
     "data": {
      "application/javascript": [
       "if (typeof Jupyter !== \"undefined\") { window.__context = { glowscript_container: $(\"#glowscript\").removeAttr(\"id\")};}else{ element.textContent = ' ';}"
      ],
      "text/plain": [
       "<IPython.core.display.Javascript object>"
      ]
     },
     "metadata": {},
     "output_type": "display_data"
    }
   ],
   "source": [
    "from vpython import *\n",
    "scene = canvas(title='<h2><b>Testing</h2></b>', width=1200, height=800)"
   ]
  },
  {
   "cell_type": "code",
   "execution_count": 2,
   "id": "254124ee-566b-4080-acec-8148105474bd",
   "metadata": {},
   "outputs": [
    {
     "data": {
      "application/javascript": [
       "if (typeof Jupyter !== \"undefined\") {require.undef(\"nbextensions/vpython_libraries/glow.min\");}else{element.textContent = ' ';}"
      ],
      "text/plain": [
       "<IPython.core.display.Javascript object>"
      ]
     },
     "metadata": {},
     "output_type": "display_data"
    },
    {
     "data": {
      "application/javascript": [
       "if (typeof Jupyter !== \"undefined\") {require.undef(\"nbextensions/vpython_libraries/glowcomm\");}else{element.textContent = ' ';}"
      ],
      "text/plain": [
       "<IPython.core.display.Javascript object>"
      ]
     },
     "metadata": {},
     "output_type": "display_data"
    },
    {
     "data": {
      "application/javascript": [
       "if (typeof Jupyter !== \"undefined\") {require.undef(\"nbextensions/vpython_libraries/jquery-ui.custom.min\");}else{element.textContent = ' ';}"
      ],
      "text/plain": [
       "<IPython.core.display.Javascript object>"
      ]
     },
     "metadata": {},
     "output_type": "display_data"
    },
    {
     "data": {
      "application/javascript": [
       "if (typeof Jupyter !== \"undefined\") {require([\"nbextensions/vpython_libraries/glow.min\"], function(){console.log(\"GLOW LOADED\");});}else{element.textContent = ' ';}"
      ],
      "text/plain": [
       "<IPython.core.display.Javascript object>"
      ]
     },
     "metadata": {},
     "output_type": "display_data"
    },
    {
     "data": {
      "application/javascript": [
       "if (typeof Jupyter !== \"undefined\") {require([\"nbextensions/vpython_libraries/glowcomm\"], function(){console.log(\"GLOWCOMM LOADED\");});}else{element.textContent = ' ';}"
      ],
      "text/plain": [
       "<IPython.core.display.Javascript object>"
      ]
     },
     "metadata": {},
     "output_type": "display_data"
    },
    {
     "data": {
      "application/javascript": [
       "if (typeof Jupyter !== \"undefined\") {require([\"nbextensions/vpython_libraries/jquery-ui.custom.min\"], function(){console.log(\"JQUERY LOADED\");});}else{element.textContent = ' ';}"
      ],
      "text/plain": [
       "<IPython.core.display.Javascript object>"
      ]
     },
     "metadata": {},
     "output_type": "display_data"
    }
   ],
   "source": [
    "earth = sphere(pos = vector(0,0,0), radius = 6.371e7, texture = \"https://i.imgur.com/nI5Qx0l.jpeg\")\n",
    "earth.mass = 5.97e24\n",
    "earthLabel = label(pos = earth.pos, text=\"Earth\", yoffset = 70, space = 55, height = 10) \n",
    "moon = sphere(pos = vector(0,3.844e8,0), radius = 1.737e7, texture = \"https://i.imgur.com/0lAj5pJ.jpeg\", make_trail = True)\n",
    "moon.mass = 7.35e22\n",
    "moon.speed = 2 * 3.1415 * 3.844e8 / 2.33286e6\n",
    "moon.p = vector(moon.speed, 0, 0) * moon.mass\n",
    "moonLabel = label(pos = moon.pos, text=\"Moon\", yoffset = 30, space = 15, height = 10) \n",
    "\n",
    "G = 6.67e-11\n",
    "dt = 1e2\n",
    "F = -(G * earth.mass * moon.mass / mag2(moon.pos)) * norm(moon.pos)\n",
    "\n",
    "momentumArrow = arrow(pos = moon.pos, axis = (moon.p * 1e-18), color = color.red, shaftwidth = (moon.radius / 3))\n",
    "gravityArrow = arrow(pos = moon.pos, axis = (F * 1e-12), color = color.green, shaftwidth = (moon.radius / 3))"
   ]
  },
  {
   "cell_type": "code",
   "execution_count": 3,
   "id": "42a53c01-8f16-4a6d-84ed-15145c86e41a",
   "metadata": {},
   "outputs": [
    {
     "ename": "KeyboardInterrupt",
     "evalue": "",
     "output_type": "error",
     "traceback": [
      "\u001b[1;31m---------------------------------------------------------------------------\u001b[0m",
      "\u001b[1;31mKeyboardInterrupt\u001b[0m                         Traceback (most recent call last)",
      "Cell \u001b[1;32mIn[3], line 2\u001b[0m\n\u001b[0;32m      1\u001b[0m \u001b[38;5;28;01mwhile\u001b[39;00m \u001b[38;5;28;01mTrue\u001b[39;00m:\n\u001b[1;32m----> 2\u001b[0m     \u001b[43mrate\u001b[49m\u001b[43m(\u001b[49m\u001b[38;5;241;43m60\u001b[39;49m\u001b[43m)\u001b[49m\n\u001b[0;32m      3\u001b[0m     F \u001b[38;5;241m=\u001b[39m \u001b[38;5;241m-\u001b[39m(G \u001b[38;5;241m*\u001b[39m earth\u001b[38;5;241m.\u001b[39mmass \u001b[38;5;241m*\u001b[39m moon\u001b[38;5;241m.\u001b[39mmass \u001b[38;5;241m/\u001b[39m mag2(moon\u001b[38;5;241m.\u001b[39mpos)) \u001b[38;5;241m*\u001b[39m norm(moon\u001b[38;5;241m.\u001b[39mpos)\n\u001b[0;32m      4\u001b[0m     moon\u001b[38;5;241m.\u001b[39mp \u001b[38;5;241m+\u001b[39m\u001b[38;5;241m=\u001b[39m F \u001b[38;5;241m*\u001b[39m dt\n",
      "File \u001b[1;32mD:\\Anaconda\\lib\\site-packages\\vpython\\rate_control.py:266\u001b[0m, in \u001b[0;36m_RateKeeper2.__call__\u001b[1;34m(self, N)\u001b[0m\n\u001b[0;32m    264\u001b[0m \u001b[38;5;28mself\u001b[39m\u001b[38;5;241m.\u001b[39mrval \u001b[38;5;241m=\u001b[39m N\n\u001b[0;32m    265\u001b[0m \u001b[38;5;28;01mif\u001b[39;00m \u001b[38;5;28mself\u001b[39m\u001b[38;5;241m.\u001b[39mrval \u001b[38;5;241m<\u001b[39m \u001b[38;5;241m1\u001b[39m: \u001b[38;5;28;01mraise\u001b[39;00m \u001b[38;5;167;01mValueError\u001b[39;00m(\u001b[38;5;124m\"\u001b[39m\u001b[38;5;124mrate value must be greater than or equal to 1\u001b[39m\u001b[38;5;124m\"\u001b[39m)\n\u001b[1;32m--> 266\u001b[0m \u001b[38;5;28;43msuper\u001b[39;49m\u001b[43m(\u001b[49m\u001b[43m_RateKeeper2\u001b[49m\u001b[43m,\u001b[49m\u001b[43m \u001b[49m\u001b[38;5;28;43mself\u001b[39;49m\u001b[43m)\u001b[49m\u001b[38;5;241;43m.\u001b[39;49m\u001b[38;5;21;43m__call__\u001b[39;49m\u001b[43m(\u001b[49m\u001b[38;5;28;43mself\u001b[39;49m\u001b[38;5;241;43m.\u001b[39;49m\u001b[43mrval\u001b[49m\u001b[43m)\u001b[49m\n",
      "File \u001b[1;32mD:\\Anaconda\\lib\\site-packages\\vpython\\rate_control.py:220\u001b[0m, in \u001b[0;36mRateKeeper.__call__\u001b[1;34m(self, maxRate)\u001b[0m\n\u001b[0;32m    217\u001b[0m \u001b[38;5;66;03m# Determine how much time is left before the next predicted call to rate:\u001b[39;00m\n\u001b[0;32m    218\u001b[0m dt \u001b[38;5;241m=\u001b[39m \u001b[38;5;28mself\u001b[39m\u001b[38;5;241m.\u001b[39mlastSleep \u001b[38;5;241m+\u001b[39m \u001b[38;5;28mself\u001b[39m\u001b[38;5;241m.\u001b[39mcalls\u001b[38;5;241m*\u001b[39m(\u001b[38;5;28mself\u001b[39m\u001b[38;5;241m.\u001b[39muserTime \u001b[38;5;241m+\u001b[39m \u001b[38;5;28mself\u001b[39m\u001b[38;5;241m.\u001b[39mcallTime \u001b[38;5;241m+\u001b[39m \u001b[38;5;28mself\u001b[39m\u001b[38;5;241m.\u001b[39mdelay) \u001b[38;5;241m+\u001b[39m \\\n\u001b[0;32m    219\u001b[0m      renders\u001b[38;5;241m*\u001b[39m\u001b[38;5;28mself\u001b[39m\u001b[38;5;241m.\u001b[39mrenderTime \u001b[38;5;241m+\u001b[39m sleeps\u001b[38;5;241m*\u001b[39m\u001b[38;5;28mself\u001b[39m\u001b[38;5;241m.\u001b[39minteractionPeriod \u001b[38;5;241m-\u001b[39m _clock()\n\u001b[1;32m--> 220\u001b[0m \u001b[43m_sleep\u001b[49m\u001b[43m(\u001b[49m\u001b[43mdt\u001b[49m\u001b[43m)\u001b[49m\n\u001b[0;32m    221\u001b[0m \u001b[38;5;28mself\u001b[39m\u001b[38;5;241m.\u001b[39mlastSleep \u001b[38;5;241m=\u001b[39m _clock()\n\u001b[0;32m    222\u001b[0m \u001b[38;5;28mself\u001b[39m\u001b[38;5;241m.\u001b[39mcalls \u001b[38;5;241m=\u001b[39m \u001b[38;5;241m0\u001b[39m\n",
      "File \u001b[1;32mD:\\Anaconda\\lib\\site-packages\\vpython\\rate_control.py:68\u001b[0m, in \u001b[0;36m_sleep\u001b[1;34m(dt)\u001b[0m\n\u001b[0;32m     66\u001b[0m     \u001b[38;5;28;01mreturn\u001b[39;00m\n\u001b[0;32m     67\u001b[0m tend \u001b[38;5;241m=\u001b[39m _clock()\u001b[38;5;241m+\u001b[39mdt\n\u001b[1;32m---> 68\u001b[0m \u001b[38;5;28;01mwhile\u001b[39;00m \u001b[43m_clock\u001b[49m\u001b[43m(\u001b[49m\u001b[43m)\u001b[49m\u001b[43m \u001b[49m\u001b[38;5;241;43m<\u001b[39;49m\u001b[43m \u001b[49m\u001b[43mtend\u001b[49m:\n\u001b[0;32m     69\u001b[0m     \u001b[38;5;28;01mpass\u001b[39;00m\n",
      "\u001b[1;31mKeyboardInterrupt\u001b[0m: "
     ]
    }
   ],
   "source": [
    "while True:\n",
    "    rate(60)\n",
    "    F = -(G * earth.mass * moon.mass / mag2(moon.pos)) * norm(moon.pos)\n",
    "    moon.p += F * dt\n",
    "    moon.pos += (moon.p / moon.mass) * dt\n",
    "    moonLabel.pos = moon.pos\n",
    "    momentumArrow.pos = moon.pos\n",
    "    momentumArrow.axis = moon.p * 1e-18\n",
    "    gravityArrow.pos = moon.pos\n",
    "    gravityArrow.axis = F * 1e-12"
   ]
  }
 ],
 "metadata": {
  "kernelspec": {
   "display_name": "Python 3 (ipykernel)",
   "language": "python",
   "name": "python3"
  },
  "language_info": {
   "codemirror_mode": {
    "name": "ipython",
    "version": 3
   },
   "file_extension": ".py",
   "mimetype": "text/x-python",
   "name": "python",
   "nbconvert_exporter": "python",
   "pygments_lexer": "ipython3",
   "version": "3.10.9"
  }
 },
 "nbformat": 4,
 "nbformat_minor": 5
}
