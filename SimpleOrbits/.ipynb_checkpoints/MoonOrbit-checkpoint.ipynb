{
 "cells": [
  {
   "cell_type": "code",
   "execution_count": 1,
   "id": "2c7a84e8-2ad9-4659-8357-20d4f0d96312",
   "metadata": {
    "tags": []
   },
   "outputs": [
    {
     "data": {
      "text/html": [
       "<div id=\"glowscript\" class=\"glowscript\"></div>"
      ],
      "text/plain": [
       "<IPython.core.display.HTML object>"
      ]
     },
     "metadata": {},
     "output_type": "display_data"
    },
    {
     "data": {
      "application/javascript": [
       "if (typeof Jupyter !== \"undefined\") { window.__context = { glowscript_container: $(\"#glowscript\").removeAttr(\"id\")};}else{ element.textContent = ' ';}"
      ],
      "text/plain": [
       "<IPython.core.display.Javascript object>"
      ]
     },
     "metadata": {},
     "output_type": "display_data"
    },
    {
     "data": {
      "text/html": [
       "<div id=\"glowscript\" class=\"glowscript\"></div>"
      ],
      "text/plain": [
       "<IPython.core.display.HTML object>"
      ]
     },
     "metadata": {},
     "output_type": "display_data"
    },
    {
     "data": {
      "application/javascript": [
       "if (typeof Jupyter !== \"undefined\") { window.__context = { glowscript_container: $(\"#glowscript\").removeAttr(\"id\")};}else{ element.textContent = ' ';}"
      ],
      "text/plain": [
       "<IPython.core.display.Javascript object>"
      ]
     },
     "metadata": {},
     "output_type": "display_data"
    }
   ],
   "source": [
    "from vpython import *\n",
    "scene = canvas(title='<h2><b>Testing</h2></b>', width=1200, height=800)"
   ]
  },
  {
   "cell_type": "code",
   "execution_count": 2,
   "id": "254124ee-566b-4080-acec-8148105474bd",
   "metadata": {},
   "outputs": [
    {
     "data": {
      "application/javascript": [
       "if (typeof Jupyter !== \"undefined\") {require.undef(\"nbextensions/vpython_libraries/glow.min\");}else{element.textContent = ' ';}"
      ],
      "text/plain": [
       "<IPython.core.display.Javascript object>"
      ]
     },
     "metadata": {},
     "output_type": "display_data"
    },
    {
     "data": {
      "application/javascript": [
       "if (typeof Jupyter !== \"undefined\") {require.undef(\"nbextensions/vpython_libraries/glowcomm\");}else{element.textContent = ' ';}"
      ],
      "text/plain": [
       "<IPython.core.display.Javascript object>"
      ]
     },
     "metadata": {},
     "output_type": "display_data"
    },
    {
     "data": {
      "application/javascript": [
       "if (typeof Jupyter !== \"undefined\") {require.undef(\"nbextensions/vpython_libraries/jquery-ui.custom.min\");}else{element.textContent = ' ';}"
      ],
      "text/plain": [
       "<IPython.core.display.Javascript object>"
      ]
     },
     "metadata": {},
     "output_type": "display_data"
    },
    {
     "data": {
      "application/javascript": [
       "if (typeof Jupyter !== \"undefined\") {require([\"nbextensions/vpython_libraries/glow.min\"], function(){console.log(\"GLOW LOADED\");});}else{element.textContent = ' ';}"
      ],
      "text/plain": [
       "<IPython.core.display.Javascript object>"
      ]
     },
     "metadata": {},
     "output_type": "display_data"
    },
    {
     "data": {
      "application/javascript": [
       "if (typeof Jupyter !== \"undefined\") {require([\"nbextensions/vpython_libraries/glowcomm\"], function(){console.log(\"GLOWCOMM LOADED\");});}else{element.textContent = ' ';}"
      ],
      "text/plain": [
       "<IPython.core.display.Javascript object>"
      ]
     },
     "metadata": {},
     "output_type": "display_data"
    },
    {
     "data": {
      "application/javascript": [
       "if (typeof Jupyter !== \"undefined\") {require([\"nbextensions/vpython_libraries/jquery-ui.custom.min\"], function(){console.log(\"JQUERY LOADED\");});}else{element.textContent = ' ';}"
      ],
      "text/plain": [
       "<IPython.core.display.Javascript object>"
      ]
     },
     "metadata": {},
     "output_type": "display_data"
    }
   ],
   "source": [
    "earth = sphere(pos = vector(0,0,0), radius = 6.371e7, texture = \"https://i.imgur.com/nI5Qx0l.jpeg\")\n",
    "earth.mass = 5.97e24\n",
    "earthLabel = label(pos = earth.pos, text=\"Earth\", yoffset = 70, space = 55, height = 10) \n",
    "moon = sphere(pos = vector(0,3.844e8,0), radius = 1.737e7, texture = \"https://i.imgur.com/0lAj5pJ.jpeg\", make_trail = True)\n",
    "moon.mass = 7.35e22\n",
    "moon.speed = 2 * 3.1415 * 3.844e8 / 2.33286e6\n",
    "moon.p = vector(moon.speed, 0, 0) * moon.mass\n",
    "moonLabel = label(pos = moon.pos, text=\"Moon\", yoffset = 30, space = 15, height = 10) \n",
    "\n",
    "G = 6.67e-11\n",
    "dt = 1e2\n",
    "T = 0\n",
    "F = -(G * earth.mass * moon.mass / mag2(moon.pos)) * norm(moon.pos)\n",
    "\n",
    "momentumArrow = arrow(pos = moon.pos, axis = (moon.p * 1e-18), color = color.red, shaftwidth = (moon.radius / 3))\n",
    "gravityArrow = arrow(pos = moon.pos, axis = (F * 1e-12), color = color.green, shaftwidth = (moon.radius / 3))"
   ]
  },
  {
   "cell_type": "code",
   "execution_count": 3,
   "id": "42a53c01-8f16-4a6d-84ed-15145c86e41a",
   "metadata": {},
   "outputs": [],
   "source": [
    "while T < 10:\n",
    "    rate(60)\n",
    "    F = -(G * earth.mass * moon.mass / mag2(moon.pos)) * norm(moon.pos)\n",
    "    moon.p += F * dt\n",
    "    moon.pos += (moon.p / moon.mass) * dt\n",
    "    moonLabel.pos = moon.pos\n",
    "    momentumArrow.pos = moon.pos\n",
    "    momentumArrow.axis = moon.p * 1e-18\n",
    "    gravityArrow.pos = moon.pos\n",
    "    gravityArrow.axis = F * 1e-12\n",
    "    T += 10/600"
   ]
  }
 ],
 "metadata": {
  "kernelspec": {
   "display_name": "Python 3 (ipykernel)",
   "language": "python",
   "name": "python3"
  },
  "language_info": {
   "codemirror_mode": {
    "name": "ipython",
    "version": 3
   },
   "file_extension": ".py",
   "mimetype": "text/x-python",
   "name": "python",
   "nbconvert_exporter": "python",
   "pygments_lexer": "ipython3",
   "version": "3.10.9"
  }
 },
 "nbformat": 4,
 "nbformat_minor": 5
}
