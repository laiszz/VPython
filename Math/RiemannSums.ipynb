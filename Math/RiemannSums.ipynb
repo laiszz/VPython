{
 "cells": [
  {
   "cell_type": "code",
   "execution_count": 1,
   "id": "7e72bbc1-2457-428a-8cbc-a397d245a33e",
   "metadata": {},
   "outputs": [
    {
     "data": {
      "text/html": [
       "<div id=\"glowscript\" class=\"glowscript\"></div>"
      ],
      "text/plain": [
       "<IPython.core.display.HTML object>"
      ]
     },
     "metadata": {},
     "output_type": "display_data"
    },
    {
     "data": {
      "application/javascript": [
       "if (typeof Jupyter !== \"undefined\") { window.__context = { glowscript_container: $(\"#glowscript\").removeAttr(\"id\")};}else{ element.textContent = ' ';}"
      ],
      "text/plain": [
       "<IPython.core.display.Javascript object>"
      ]
     },
     "metadata": {},
     "output_type": "display_data"
    },
    {
     "name": "stdout",
     "output_type": "stream",
     "text": [
      "Integral of Sin(x) from 0 to Pi: 2\n"
     ]
    },
    {
     "data": {
      "application/javascript": [
       "if (typeof Jupyter !== \"undefined\") {require.undef(\"nbextensions/vpython_libraries/glow.min\");}else{element.textContent = ' ';}"
      ],
      "text/plain": [
       "<IPython.core.display.Javascript object>"
      ]
     },
     "metadata": {},
     "output_type": "display_data"
    },
    {
     "data": {
      "application/javascript": [
       "if (typeof Jupyter !== \"undefined\") {require.undef(\"nbextensions/vpython_libraries/glowcomm\");}else{element.textContent = ' ';}"
      ],
      "text/plain": [
       "<IPython.core.display.Javascript object>"
      ]
     },
     "metadata": {},
     "output_type": "display_data"
    },
    {
     "data": {
      "application/javascript": [
       "if (typeof Jupyter !== \"undefined\") {require.undef(\"nbextensions/vpython_libraries/jquery-ui.custom.min\");}else{element.textContent = ' ';}"
      ],
      "text/plain": [
       "<IPython.core.display.Javascript object>"
      ]
     },
     "metadata": {},
     "output_type": "display_data"
    },
    {
     "data": {
      "application/javascript": [
       "if (typeof Jupyter !== \"undefined\") {require([\"nbextensions/vpython_libraries/glow.min\"], function(){console.log(\"GLOW LOADED\");});}else{element.textContent = ' ';}"
      ],
      "text/plain": [
       "<IPython.core.display.Javascript object>"
      ]
     },
     "metadata": {},
     "output_type": "display_data"
    },
    {
     "data": {
      "application/javascript": [
       "if (typeof Jupyter !== \"undefined\") {require([\"nbextensions/vpython_libraries/glowcomm\"], function(){console.log(\"GLOWCOMM LOADED\");});}else{element.textContent = ' ';}"
      ],
      "text/plain": [
       "<IPython.core.display.Javascript object>"
      ]
     },
     "metadata": {},
     "output_type": "display_data"
    },
    {
     "data": {
      "application/javascript": [
       "if (typeof Jupyter !== \"undefined\") {require([\"nbextensions/vpython_libraries/jquery-ui.custom.min\"], function(){console.log(\"JQUERY LOADED\");});}else{element.textContent = ' ';}"
      ],
      "text/plain": [
       "<IPython.core.display.Javascript object>"
      ]
     },
     "metadata": {},
     "output_type": "display_data"
    },
    {
     "name": "stdout",
     "output_type": "stream",
     "text": [
      "Left Riemann Sum with 15 steps approximation: 1.99268\n",
      "Right Riemann Sum with 15 steps approximation: 1.99268\n"
     ]
    }
   ],
   "source": [
    "from vpython import *\n",
    "\n",
    "print(\"Integral of Sin(x) from 0 to Pi: 2\")\n",
    "\n",
    "#----------------------------------------------------------------\n",
    "#Left Riemann Sum\n",
    "\n",
    "g1 = graph(title = \"Left Riemann Sum\", xtitle = \"x\", ytitle = \"sin(x)\", xmin = 0, xmax = 3.141592653589793, ymin = 0, ymax = 1)\n",
    "\n",
    "f = gcurve(graph = g1)\n",
    "\n",
    "a = 0\n",
    "b = 3.141592653589793\n",
    "nCurve = 1000\n",
    "dxCurve = (b - a) / nCurve\n",
    "\n",
    "for x in arange(a, b, dxCurve):\n",
    "    f.plot(x, sin(x))\n",
    "    \n",
    "nLeft = 15\n",
    "dxLeft = (b - a) / nLeft\n",
    "leftColumns = gvbars(delta = dxLeft, graph = g1, color = color.red)\n",
    "leftSum = 0\n",
    "\n",
    "for x in arange(a, b, dxLeft):\n",
    "    leftColumns.plot(x + (dxLeft / 2), sin(x))\n",
    "    leftSum += dxLeft * sin(x)\n",
    "    \n",
    "print(\"Left Riemann Sum with {} steps approximation: {:.5f}\".format(nLeft, leftSum))\n",
    "    \n",
    "#----------------------------------------------------------------\n",
    "#Right Riemann Sum\n",
    "\n",
    "g2 = graph(title = \"Right Riemann Sum\", xtitle = \"x\", ytitle = \"sin(x)\", xmin = 0, xmax = 3.141592653589793, ymin = 0, ymax = 1)\n",
    "\n",
    "f = gcurve(graph = g2)\n",
    "\n",
    "a = 0\n",
    "b = 3.141592653589793\n",
    "nCurve = 1000\n",
    "dxCurve = (b - a) / nCurve\n",
    "\n",
    "for x in arange(a, b, dxCurve):\n",
    "    f.plot(x, sin(x))\n",
    "\n",
    "nRight = 15\n",
    "dxRight = (b - a) / nRight\n",
    "rightColumns = gvbars(delta = dxRight, graph = g2, color = color.blue)\n",
    "rightSum = 0\n",
    "\n",
    "for x in arange(a, b, dxRight):\n",
    "    rightColumns.plot(x + (dxRight / 2), sin(x + (dxRight / 1)))\n",
    "    rightSum += dxRight * sin(x + (dxRight / 1))\n",
    "\n",
    "print(\"Right Riemann Sum with {} steps approximation: {:.5f}\".format(nRight, rightSum))"
   ]
  },
  {
   "cell_type": "code",
   "execution_count": null,
   "id": "b85b32a3-8fd3-4b86-b112-b232af5b71b8",
   "metadata": {},
   "outputs": [],
   "source": []
  }
 ],
 "metadata": {
  "kernelspec": {
   "display_name": "Python 3 (ipykernel)",
   "language": "python",
   "name": "python3"
  },
  "language_info": {
   "codemirror_mode": {
    "name": "ipython",
    "version": 3
   },
   "file_extension": ".py",
   "mimetype": "text/x-python",
   "name": "python",
   "nbconvert_exporter": "python",
   "pygments_lexer": "ipython3",
   "version": "3.10.9"
  }
 },
 "nbformat": 4,
 "nbformat_minor": 5
}
